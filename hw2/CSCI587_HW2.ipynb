{
  "cells": [
    {
      "cell_type": "markdown",
      "metadata": {
        "id": "Au6G81AszI2R"
      },
      "source": [
        "# CSCI587 - Assignment \\#2\n",
        "\n",
        "The objective of this assignment is to design and implement an in memory spatial network index structure that is used in Spatial Network Databases (SNDB), following the framework presented in this paper: [Link to paper.](https://www.vldb.org/conf/2003/papers/S24P02.pdf)\n",
        "To test and evaluate the performance of the index structure, you will need to implement the spatial nearest neighbor queries following the Incremental Euclidean Restriction (IER) and Incremental Network Expansion (INE) methods.\n",
        "\n",
        "In the following you will be given step-by-step instructions on how to implement these. Your task is to filling in the missing parts as indicated by `\n",
        "``### ADD YOUR CODE HERE``. Ensure the code is well-documented and follows the structure provided."
      ]
    },
    {
      "cell_type": "code",
      "execution_count": 321,
      "metadata": {
        "colab": {
          "base_uri": "https://localhost:8080/"
        },
        "id": "sVRY91zKXboj",
        "outputId": "cd91ecf2-7e07-478b-b1e0-7c39a6ac679b"
      },
      "outputs": [
        {
          "name": "stdout",
          "output_type": "stream",
          "text": [
            "Requirement already satisfied: geopandas in /opt/anaconda3/envs/spatial/lib/python3.10/site-packages (1.0.1)\n",
            "Requirement already satisfied: numpy>=1.22 in /opt/anaconda3/envs/spatial/lib/python3.10/site-packages (from geopandas) (2.2.4)\n",
            "Requirement already satisfied: pyogrio>=0.7.2 in /opt/anaconda3/envs/spatial/lib/python3.10/site-packages (from geopandas) (0.10.0)\n",
            "Requirement already satisfied: packaging in /opt/anaconda3/envs/spatial/lib/python3.10/site-packages (from geopandas) (24.2)\n",
            "Requirement already satisfied: pandas>=1.4.0 in /opt/anaconda3/envs/spatial/lib/python3.10/site-packages (from geopandas) (2.2.3)\n",
            "Requirement already satisfied: pyproj>=3.3.0 in /opt/anaconda3/envs/spatial/lib/python3.10/site-packages (from geopandas) (3.7.1)\n",
            "Requirement already satisfied: shapely>=2.0.0 in /opt/anaconda3/envs/spatial/lib/python3.10/site-packages (from geopandas) (2.0.7)\n",
            "Requirement already satisfied: python-dateutil>=2.8.2 in /opt/anaconda3/envs/spatial/lib/python3.10/site-packages (from pandas>=1.4.0->geopandas) (2.9.0.post0)\n",
            "Requirement already satisfied: pytz>=2020.1 in /opt/anaconda3/envs/spatial/lib/python3.10/site-packages (from pandas>=1.4.0->geopandas) (2024.1)\n",
            "Requirement already satisfied: tzdata>=2022.7 in /opt/anaconda3/envs/spatial/lib/python3.10/site-packages (from pandas>=1.4.0->geopandas) (2025.1)\n",
            "Requirement already satisfied: certifi in /opt/anaconda3/envs/spatial/lib/python3.10/site-packages (from pyogrio>=0.7.2->geopandas) (2025.1.31)\n",
            "Requirement already satisfied: six>=1.5 in /opt/anaconda3/envs/spatial/lib/python3.10/site-packages (from python-dateutil>=2.8.2->pandas>=1.4.0->geopandas) (1.17.0)\n",
            "Requirement already satisfied: osmnx in /opt/anaconda3/envs/spatial/lib/python3.10/site-packages (2.0.1)\n",
            "Requirement already satisfied: geopandas>=1.0 in /opt/anaconda3/envs/spatial/lib/python3.10/site-packages (from osmnx) (1.0.1)\n",
            "Requirement already satisfied: networkx>=2.5 in /opt/anaconda3/envs/spatial/lib/python3.10/site-packages (from osmnx) (3.4.2)\n",
            "Requirement already satisfied: numpy>=1.22 in /opt/anaconda3/envs/spatial/lib/python3.10/site-packages (from osmnx) (2.2.4)\n",
            "Requirement already satisfied: pandas>=1.4 in /opt/anaconda3/envs/spatial/lib/python3.10/site-packages (from osmnx) (2.2.3)\n",
            "Requirement already satisfied: requests>=2.27 in /opt/anaconda3/envs/spatial/lib/python3.10/site-packages (from osmnx) (2.32.3)\n",
            "Requirement already satisfied: shapely>=2.0 in /opt/anaconda3/envs/spatial/lib/python3.10/site-packages (from osmnx) (2.0.7)\n",
            "Requirement already satisfied: pyogrio>=0.7.2 in /opt/anaconda3/envs/spatial/lib/python3.10/site-packages (from geopandas>=1.0->osmnx) (0.10.0)\n",
            "Requirement already satisfied: packaging in /opt/anaconda3/envs/spatial/lib/python3.10/site-packages (from geopandas>=1.0->osmnx) (24.2)\n",
            "Requirement already satisfied: pyproj>=3.3.0 in /opt/anaconda3/envs/spatial/lib/python3.10/site-packages (from geopandas>=1.0->osmnx) (3.7.1)\n",
            "Requirement already satisfied: python-dateutil>=2.8.2 in /opt/anaconda3/envs/spatial/lib/python3.10/site-packages (from pandas>=1.4->osmnx) (2.9.0.post0)\n",
            "Requirement already satisfied: pytz>=2020.1 in /opt/anaconda3/envs/spatial/lib/python3.10/site-packages (from pandas>=1.4->osmnx) (2024.1)\n",
            "Requirement already satisfied: tzdata>=2022.7 in /opt/anaconda3/envs/spatial/lib/python3.10/site-packages (from pandas>=1.4->osmnx) (2025.1)\n",
            "Requirement already satisfied: charset_normalizer<4,>=2 in /opt/anaconda3/envs/spatial/lib/python3.10/site-packages (from requests>=2.27->osmnx) (3.4.1)\n",
            "Requirement already satisfied: idna<4,>=2.5 in /opt/anaconda3/envs/spatial/lib/python3.10/site-packages (from requests>=2.27->osmnx) (3.10)\n",
            "Requirement already satisfied: urllib3<3,>=1.21.1 in /opt/anaconda3/envs/spatial/lib/python3.10/site-packages (from requests>=2.27->osmnx) (2.3.0)\n",
            "Requirement already satisfied: certifi>=2017.4.17 in /opt/anaconda3/envs/spatial/lib/python3.10/site-packages (from requests>=2.27->osmnx) (2025.1.31)\n",
            "Requirement already satisfied: six>=1.5 in /opt/anaconda3/envs/spatial/lib/python3.10/site-packages (from python-dateutil>=2.8.2->pandas>=1.4->osmnx) (1.17.0)\n",
            "Requirement already satisfied: rtree in /opt/anaconda3/envs/spatial/lib/python3.10/site-packages (1.4.0)\n"
          ]
        }
      ],
      "source": [
        "### Install dependencies\n",
        "\n",
        "!pip install geopandas\n",
        "!pip install osmnx\n",
        "!pip install rtree"
      ]
    },
    {
      "cell_type": "markdown",
      "metadata": {
        "id": "B-BrsrgYzTER"
      },
      "source": [
        "## Step 1- Download the POI and Road-Network Data for San Francisco Area\n",
        "\n",
        "For this assignment, we will use Point-of-Interest data and the underlying road network of San Fransisco City as provided by OpenStreat Map (OSM). The POI data includes various locations such as restaurants, hotels, and landmarks, while the road network represents the streets and intersections of the city.\n",
        "\n",
        "This step is already implemented for you. You will need to run the following cells to download and store the data.\n"
      ]
    },
    {
      "cell_type": "markdown",
      "metadata": {
        "id": "IsgQtTonj05-"
      },
      "source": [
        "#### Download the Road Network data\n",
        "\n",
        "We download the road network of San Fransisco using the osmnx package."
      ]
    },
    {
      "cell_type": "code",
      "execution_count": 322,
      "metadata": {
        "colab": {
          "base_uri": "https://localhost:8080/",
          "height": 844
        },
        "id": "sQ9JiorFzSh5",
        "outputId": "f794806f-0949-4b15-e517-273050b6f88d"
      },
      "outputs": [
        {
          "name": "stdout",
          "output_type": "stream",
          "text": [
            "Nodes columns: Index(['y', 'x', 'street_count', 'highway', 'ref', 'railway', 'geometry'], dtype='object')\n",
            "Edges columns: Index(['u', 'v', 'key', 'osmid', 'highway', 'lanes', 'maxspeed', 'name',\n",
            "       'oneway', 'ref', 'reversed', 'length', 'bridge', 'tunnel', 'geometry',\n",
            "       'access', 'width', 'junction'],\n",
            "      dtype='object')\n",
            "edges_gdf CRS: EPSG:32610\n",
            "edges_gdf EPSG: 32610\n",
            "nodes_gdf CRS: EPSG:32610\n",
            "nodes_gdf EPSG: 32610\n"
          ]
        }
      ],
      "source": [
        "import osmnx as ox\n",
        "import geopandas as gpd\n",
        "import os\n",
        "\n",
        "# Download data if not already stored\n",
        "if not os.path.exists('sf-road_network.graphml'):\n",
        "\n",
        "  # Specify area as San Francisco, CA\n",
        "  G = ox.graph_from_place('San Francisco, California, USA', network_type='drive', simplify=True) # set to simplify=True for a less nodes\n",
        "\n",
        "  # Plot the road network\n",
        "  ox.plot_graph(G)\n",
        "\n",
        "  # Save the graph\n",
        "  ox.save_graph_geopackage(G, filepath='sf-road-network.gpkg')\n",
        "  ox.save_graphml(G, filepath='sf-road_network.graphml')\n",
        "\n",
        "else:\n",
        "\n",
        "  # Load data from the file\n",
        "  G = ox.load_graphml('sf-road_network.graphml')\n",
        "\n",
        "G = ox.project_graph(G, to_crs='EPSG:32610')\n",
        "\n",
        "# Extract the nodes and edges from the graph\n",
        "# nodes_gdf, edges_gdf = ox.graph_to_gdfs(G)\n",
        "nodes_gdf, edges_gdf = ox.graph_to_gdfs(G, nodes=True, edges=True, node_geometry=True, fill_edge_geometry=True)\n",
        "\n",
        "edges_gdf = edges_gdf.reset_index()\n",
        "\n",
        "print(\"Nodes columns:\", nodes_gdf.columns)\n",
        "print(\"Edges columns:\", edges_gdf.columns)\n",
        "\n",
        "print(\"edges_gdf CRS:\", edges_gdf.crs)\n",
        "print(\"edges_gdf EPSG:\", edges_gdf.crs.to_epsg())\n",
        "\n",
        "print(\"nodes_gdf CRS:\", nodes_gdf.crs)\n",
        "print(\"nodes_gdf EPSG:\", nodes_gdf.crs.to_epsg())"
      ]
    },
    {
      "cell_type": "markdown",
      "metadata": {
        "id": "Bf6TqoTjj8Rt"
      },
      "source": [
        "#### Download the POI data for San Francisco Area\n",
        "\n",
        "Here, we make sure that the POIs are within the road network bounding box.\n",
        "\n",
        "From this part of the code you will obtain an ``attractions_gdf`` dataframe that holds all POIs of San Francisco."
      ]
    },
    {
      "cell_type": "code",
      "execution_count": 323,
      "metadata": {
        "colab": {
          "base_uri": "https://localhost:8080/"
        },
        "id": "4LaNA64ilB2q",
        "outputId": "3628dba3-ba5b-42ef-d425-5e9356a959c6"
      },
      "outputs": [
        {
          "name": "stdout",
          "output_type": "stream",
          "text": [
            "Column names in dataframe: Index(['name', 'x', 'y', 'geometry'], dtype='object')\n",
            "Number of POIs: 14565\n",
            "edges_gdf CRS: EPSG:32610\n",
            "edges_gdf EPSG: 32610\n",
            "nodes_gdf CRS: EPSG:32610\n",
            "nodes_gdf EPSG: 32610\n"
          ]
        }
      ],
      "source": [
        "from shapely.geometry import box\n",
        "\n",
        "# Chek if data is already stored\n",
        "if not os.path.exists('sf-attractions.geojson'):\n",
        "\n",
        "  tags = {'tourism': True, 'amenity': True}\n",
        "\n",
        "  # Load tourist attractions in San Francisco\n",
        "  attractions = ox.features.features_from_place('San Francisco, California, USA', tags)\n",
        "\n",
        "  # Plot the tourist attractions\n",
        "  attractions = attractions[['name', 'geometry']]\n",
        "  attractions_gdf = gpd.GeoDataFrame(attractions, geometry='geometry')\n",
        "\n",
        "  # Get the bounding box of the road network\n",
        "  minx, miny, maxx, maxy = edges_gdf.total_bounds\n",
        "\n",
        "  # Create a bounding box polygon\n",
        "  bounding_box = box(minx, miny, maxx, maxy)\n",
        "\n",
        "  # Convert the bounding box to a GeoDataFrame\n",
        "  bounding_box_gdf = gpd.GeoDataFrame(gpd.GeoSeries(bounding_box), columns=['geometry'], crs=edges_gdf.crs)\n",
        "\n",
        "  # Ensure the POIs and road network have the same Coordinate Reference System\n",
        "  if attractions_gdf.crs != edges_gdf.crs:\n",
        "      attractions_gdf = attractions_gdf.to_crs(edges_gdf.crs)\n",
        "\n",
        "  # Filter the POIs to keep only those within the bounding box\n",
        "  attractions_in_bbox = attractions_gdf[attractions_gdf.within(bounding_box)]\n",
        "\n",
        "  # Drop non-Point geometries\n",
        "  attractions_in_bbox = attractions_in_bbox[attractions_in_bbox.geom_type == 'Point']\n",
        "\n",
        "  # Add x and y coordinates as seperate columns\n",
        "  attractions_in_bbox['x'] = attractions_in_bbox.geometry.x\n",
        "  attractions_in_bbox['y'] = attractions_in_bbox.geometry.y\n",
        "\n",
        "  # Reset index\n",
        "  attractions_in_bbox = attractions_in_bbox.reset_index(drop=True)\n",
        "\n",
        "  # Save attractions\n",
        "  attractions_in_bbox.to_file('sf-attractions.geojson', driver='GeoJSON')\n",
        "\n",
        "\n",
        "# Load data from the file\n",
        "attractions_gdf = gpd.read_file('sf-attractions.geojson')\n",
        "\n",
        "# Reset index\n",
        "attractions_gdf = attractions_gdf.reset_index(drop=True)\n",
        "\n",
        "# Plot dataframe\n",
        "print(\"Column names in dataframe:\", attractions_gdf.columns)\n",
        "print(\"Number of POIs:\", len(attractions_gdf))\n",
        "\n",
        "# edges_gdf = edges_gdf.to_crs(epsg=32610)\n",
        "# nodes_gdf = nodes_gdf.to_crs(epsg=32610)\n",
        "\n",
        "print(\"edges_gdf CRS:\", edges_gdf.crs)\n",
        "print(\"edges_gdf EPSG:\", edges_gdf.crs.to_epsg())\n",
        "\n",
        "print(\"nodes_gdf CRS:\", nodes_gdf.crs)\n",
        "print(\"nodes_gdf EPSG:\", nodes_gdf.crs.to_epsg())\n"
      ]
    },
    {
      "cell_type": "markdown",
      "metadata": {
        "id": "UPEPKxhhzjff"
      },
      "source": [
        "## Part 2- Index Creation\n",
        "\n",
        "**Time to code!** In this part you will be asked to create the following index structures:\n",
        "\n",
        "  1.   An R-tree index that stores the POI data\n",
        "\n",
        "  2.   A network Storage Scheme consisting of the following 3 components\n",
        "    \n",
        "    i. Adjacency component, to represent the network connectivity\n",
        "    \n",
        "    ii. The poly-line component, to store the the poly-line representation of each segment in the network\n",
        "    \n",
        "    iii. An R-tree index that indexes the polylines.\n",
        "\n",
        "\n"
      ]
    },
    {
      "cell_type": "markdown",
      "metadata": {
        "id": "bObRl-afqEqj"
      },
      "source": [
        "#### Part 2.1. Create an R-Tree index for POI data.\n",
        "\n",
        "For this part you can use the built in python library rtree."
      ]
    },
    {
      "cell_type": "code",
      "execution_count": 324,
      "metadata": {
        "colab": {
          "base_uri": "https://localhost:8080/"
        },
        "id": "lBHz9Mopz7w-",
        "outputId": "df0ffa14-634f-4ea4-8a58-38bc56a1f9ac"
      },
      "outputs": [],
      "source": [
        "from rtree import index\n",
        "\n",
        "# For accurate distance calculations, we project geometris to EPSG:32610 coordinate system.\n",
        "attractions_gdf = attractions_gdf.to_crs(epsg=32610)\n",
        "\n",
        "# Build R-tree index for POIs\n",
        "poi_rtree = index.Index()\n",
        "for idx, geom in attractions_gdf['geometry'].items():\n",
        "    # ADD YOUR CODE HERE\n",
        "    poi_rtree.insert(idx, geom.bounds)"
      ]
    },
    {
      "cell_type": "markdown",
      "metadata": {
        "id": "YPSRB2sGq4vc"
      },
      "source": [
        "#### Part 2.2.a: Create the adjacency component to represent the network connectivity\n",
        "\n",
        "Step 1: Define Node Adjacency Entry. In this part you will need to create a node entry. For each node, you will need to store:\n",
        " - NBptr: Pointer to the neighbor's adjacency list.\n",
        " - distance: Network distance between the current node and the neighbor.\n",
        " - MBR: The bounding box (MBR) of the road segment (or edge) between the nodes.\n",
        " - PLptr: Pointer to the poly-line data that represents the actual geometry of the road segment.\n",
        "\n",
        "**Example:** Assuming an edge $e_1$ between two nodes $n_1$ and $n_2$. These nodes are neighbors. An Adjacency Entry for node $n_1$ should hold: A pointer to the adjacency list of $n_2$. The distance between $n_1$ and $n_2$ the MBR of $e_1$ and a pointer to the actual geometry of $e_1$."
      ]
    },
    {
      "cell_type": "code",
      "execution_count": 325,
      "metadata": {
        "id": "4e6j4fP9q35s"
      },
      "outputs": [],
      "source": [
        "### YOUR CODE HERE: Define the node adjacency entry.\n",
        "\n",
        "### Hint: You can represent this as a class.\n",
        "\n",
        "from collections import defaultdict\n",
        "\n",
        "class AdjacencyEntry:\n",
        "    def __init__(self, NBptr, distance, MBR, PLptr):\n",
        "        self.NBptr = NBptr        # 邻居节点 ID\n",
        "        self.distance = distance  # 网络距离\n",
        "        self.MBR = MBR            # 边的最小包围盒\n",
        "        self.PLptr = PLptr        # 指向 poly-line 的指针（在 edges_gdf 中的索引）\n",
        "\n",
        "    def __repr__(self):\n",
        "        return f\"AdjEntry(NBptr={self.NBptr}, dist={self.distance:.1f})\""
      ]
    },
    {
      "cell_type": "markdown",
      "metadata": {
        "id": "4sy3cPNVxOai"
      },
      "source": [
        "Step 2: Define Node Representation. Now, each node in the network will have an adjacency list that holds multiple AdjacencyEntry objects, representing their neighbors."
      ]
    },
    {
      "cell_type": "code",
      "execution_count": 326,
      "metadata": {
        "id": "XHAkoPMNq3FL"
      },
      "outputs": [],
      "source": [
        "### YOUR CODE HERE: Define the node representation\n",
        "adjacency_dict = defaultdict(list)"
      ]
    },
    {
      "cell_type": "markdown",
      "metadata": {
        "id": "P6yJE1oayBEi"
      },
      "source": [
        "#### Part 2.2.b: Polyline Component. You need a separate structure to store the poly-line geometry of each road segment (or edge). This structure will store the detailed geometry for each road and be referenced by PLptr in the adjacency list.\n",
        "\n",
        "\n",
        "\n"
      ]
    },
    {
      "cell_type": "code",
      "execution_count": 327,
      "metadata": {
        "id": "Q07cHjgYy03x"
      },
      "outputs": [],
      "source": [
        "### YOUR CODE HERE: Define the poly-line component.\n",
        "# Poly-line component: 用于存储每条边的 geometry，供 PLptr 引用\n",
        "polyline_storage = dict()"
      ]
    },
    {
      "cell_type": "markdown",
      "metadata": {
        "id": "ErRiNKQP3rUC"
      },
      "source": [
        "#### Part 2.2.c. Piecing everything together.\n",
        "\n",
        "Time to prepare and store tha data!\n",
        "\n",
        "- Store the Polyline Data: Store the geometry of each road segment in polyline_storage.\n",
        "\n",
        "- Create the Adjacency Entries and Node Representations. For this step you will need to calculate the distances between the 2 neighboring nodes and the MBR of the edge. For convinience you can use the length of the polyline (``geometry.length``) for distance calculation and the bounds of the polyline (``geometry.bounds``) to extract the MBR.\n"
      ]
    },
    {
      "cell_type": "code",
      "execution_count": 328,
      "metadata": {
        "id": "F7ctTJTe3qK_"
      },
      "outputs": [],
      "source": [
        "### YOUR CODE HERE: Create the Adjacency Entries and Node Representations.\n",
        "for edge_id, row in edges_gdf.iterrows():\n",
        "    u = row['u']                 # 起点 node ID\n",
        "    v = row['v']                 # 终点 node ID\n",
        "    geometry = row['geometry']   # polyline\n",
        "    length = geometry.length     # 几何长度，作为 network distance\n",
        "    mbr = box(*geometry.bounds)  # 构造 MBR\n",
        "\n",
        "    # 存储 polyline 到 polyline_storage\n",
        "    polyline_storage[edge_id] = geometry\n",
        "\n",
        "    # 构造两个方向的 AdjacencyEntry（默认道路是双向的）\n",
        "    entry_uv = AdjacencyEntry(NBptr=v, distance=length, MBR=mbr, PLptr=edge_id)\n",
        "    adjacency_dict[u].append(entry_uv)\n",
        "\n",
        "    entry_vu = AdjacencyEntry(NBptr=u, distance=length, MBR=mbr, PLptr=edge_id)\n",
        "    adjacency_dict[v].append(entry_vu)"
      ]
    },
    {
      "cell_type": "markdown",
      "metadata": {
        "id": "L_6FZR_dzAGS"
      },
      "source": [
        "#### Part 2.3. Index the polyline MBRs using R-Tree. You will need to index the road segments according to their MBRs"
      ]
    },
    {
      "cell_type": "code",
      "execution_count": 329,
      "metadata": {
        "id": "E9gi2YLNzosg"
      },
      "outputs": [
        {
          "name": "stdout",
          "output_type": "stream",
          "text": [
            "rtree.index.Index(bounds=[542827.4670191165, 4173566.7494925573, 557226.3186780808, 4187318.825802229], size=27578)\n"
          ]
        }
      ],
      "source": [
        "polyline_rtree = index.Index()\n",
        "### YOUR CODE HERE: Index Poly-line MBR\n",
        "for edge_id, polyline in polyline_storage.items():\n",
        "    mbr = polyline.bounds  # 返回 (minx, miny, maxx, maxy)\n",
        "    polyline_rtree.insert(edge_id, mbr)\n",
        "\n",
        "print(polyline_rtree)\n",
        "\n",
        "### Hint: You can retrieve the MBR of a geometry by calling mbr = polyline.bounds"
      ]
    },
    {
      "cell_type": "markdown",
      "metadata": {
        "id": "ak7UglWBsmju"
      },
      "source": [
        "## 3- Primitive Functions\n",
        "\n",
        "In this part, we will implement the premitive functions that are needed to implement the query processing algorithms, as described in the originial VLDB paper. You will need to fill the `TODO` parts."
      ]
    },
    {
      "cell_type": "markdown",
      "metadata": {
        "id": "YIta2OgPtMtp"
      },
      "source": [
        "### 3.1- Primitive SNDB Operations"
      ]
    },
    {
      "cell_type": "markdown",
      "metadata": {
        "id": "o16rKhuEtWTf"
      },
      "source": [
        "1. **`check_entity(seg, p, dT)`**: Check if POI `p` lies on segment `seg`, or within a threshold distance `dT`.\n",
        "2. **`find_segment(p)`**: Outputs the road segment that covers point `p` by performing a point location query on the network R-tree. If multiple segments cover `p`, the first one found is returned.\n",
        "3. **`find_entities(seg)`**: Returns all POIs that lie in the MBR of `seg`.\n",
        "4. **`compute_ND(p1, p2)`**: Returns the road network distance from POI `p1` to `p2`."
      ]
    },
    {
      "cell_type": "code",
      "execution_count": 330,
      "metadata": {
        "id": "pUF3o0rdvH9k"
      },
      "outputs": [],
      "source": [
        "from shapely.geometry import Point\n",
        "from shapely.ops import nearest_points\n",
        "import networkx as nx\n",
        "import heapq\n",
        "import numpy as np\n",
        "\n",
        "def check_entity(seg, p, dT=10):\n",
        "    \"\"\"\n",
        "    Check if POI `p` lies on or near segment `seg` within a threshold distance dT.\n",
        "\n",
        "    Parameters:\n",
        "    - seg (Series): A geometry object (LINESTRING) showing the road segment.\n",
        "    - p (Point): A Point object representing the POI.\n",
        "    - dT (float): Distance threshold in meters (defaults to 10 meters).\n",
        "\n",
        "    Returns:\n",
        "    - bool: True if p lies on or near seg, False otherwise.\n",
        "    \"\"\"\n",
        "    # TODO: Implement the function to return True if the distance between p and seg is less than or equal to dT\n",
        "    # Hint: You can use Shapely's distance method to easily calculate the distance\n",
        "    return seg.distance(p) <= dT\n",
        "\n",
        "\n",
        "def find_segment(p, polyline_idx, roads_gdf, dT=10):\n",
        "    \"\"\"\n",
        "    Output the road segment that covers point `p` by performing a point location query on the network R-tree.\n",
        "    If multiple segments cover `p`, return the first one.\n",
        "\n",
        "    Parameters:\n",
        "    - p (Point): A Shapely Point object representing the query POI.\n",
        "    - polyline_idx (rtree.index.Index): R-tree index of road network segments.\n",
        "    - roads_gdf (GeoDataFrame): GeoDataFrame of road network edges (segments).\n",
        "    - dT (float): Distance threshold in meters (defaults to 10 meters).\n",
        "\n",
        "    Returns:\n",
        "    - Series: A GeoPandas Series representing the segment that covers or is closest to p.\n",
        "    \"\"\"\n",
        "    # TODO: Implement the function\n",
        "    # Hint: Use the polyline_idx to find candidate segments near p, check if any segment intersects a buffer around p\n",
        "    # If none found, find the closest segment to p\n",
        "    buffer = p.buffer(dT)\n",
        "    candidate_ids = list(polyline_idx.intersection(buffer.bounds))\n",
        "\n",
        "    min_dist = float('inf')\n",
        "    nearest_seg = None\n",
        "\n",
        "    for edge_id in candidate_ids:\n",
        "        seg = roads_gdf.loc[edge_id]\n",
        "        dist = seg.geometry.distance(p)\n",
        "        if dist <= dT and dist < min_dist:\n",
        "            min_dist = dist\n",
        "            nearest_seg = seg\n",
        "\n",
        "    return nearest_seg\n",
        "\n",
        "\n",
        "def find_entities(seg, poi_idx, pois_gdf, dT=10):\n",
        "    \"\"\"\n",
        "    Returns all POIs that lie on or near the segment seg.\n",
        "\n",
        "    Parameters:\n",
        "    - seg (Series): A LINESTRING geometry data type representing the road segment.\n",
        "    - poi_idx (rtree.index.Index): R-tree index of POIs.\n",
        "    - pois_gdf (GeoDataFrame): GeoDataFrame of POIs.\n",
        "    - dT (float): Distance threshold in meters (default is 10 meters).\n",
        "\n",
        "    Returns:\n",
        "    - GeoDataFrame: POIs that lie on or near seg.\n",
        "    \"\"\"\n",
        "    # TODO: Implement the function\n",
        "    # Hint: Use the poi_idx to find candidate POIs within the MBR of seg, verify each candidate using check_entity(seg, p)\n",
        "    buffer = seg.buffer(dT)\n",
        "    mbr = buffer.bounds\n",
        "    \n",
        "    candidate_ids = list(poi_idx.intersection(mbr))\n",
        "    results = []\n",
        "\n",
        "    for poi_id in candidate_ids:\n",
        "        poi_point = pois_gdf.loc[poi_id].geometry\n",
        "        if check_entity(seg, poi_point, dT):\n",
        "            results.append(pois_gdf.loc[poi_id])\n",
        "\n",
        "    return gpd.GeoDataFrame(results, crs=pois_gdf.crs) if results else gpd.GeoDataFrame(columns=pois_gdf.columns, crs=pois_gdf.crs)\n",
        "\n",
        "\n",
        "\n",
        "def compute_ND(p1, p2, G, roads_gdf, polyline_idx):\n",
        "    \"\"\"\n",
        "    Compute the shortest network distance between two points p1 and p2.\n",
        "\n",
        "    Parameters:\n",
        "    - p1 (Point): A Shapely Point object representing the starting point.\n",
        "    - p2 (Point): A Shapely Point object representing the destination point.\n",
        "    - G: Graph representing the road network.\n",
        "    - roads_gdf (GeoDataFrame): GeoDataFrame of road network edges (segments).\n",
        "    - polyline_idx (rtree.index.Index): R-tree index of road network segments.\n",
        "\n",
        "    Returns:\n",
        "    - float: Network distance between p1 and p2 in meters.\n",
        "    \"\"\"\n",
        "    # TODO: Map p1 and p2 to the nearest nodes or edges in the network using roads_gdf and polyline_idx\n",
        "    # Compute the shortest path length in G\n",
        "    # 找到p1和p2所在的路段\n",
        "    seg1 = find_segment(p1, polyline_idx, roads_gdf)\n",
        "    seg2 = find_segment(p2, polyline_idx, roads_gdf)\n",
        "    \n",
        "    if seg1 is None or seg2 is None:\n",
        "        return float('inf')\n",
        "    \n",
        "    # 如果两点在同一个路段上，直接计算欧氏距离\n",
        "    if seg1.name == seg2.name:\n",
        "        return p1.distance(p2)\n",
        "    \n",
        "    # 获取路段的端点\n",
        "    u1, v1 = seg1['u'], seg1['v']\n",
        "    u2, v2 = seg2['u'], seg2['v']\n",
        "    \n",
        "    # 获取端点坐标\n",
        "    def get_node_coord(nid):\n",
        "        return Point(G.nodes[nid]['x'], G.nodes[nid]['y'])\n",
        "    \n",
        "    # 计算p1到u1和v1的距离\n",
        "    p1_to_u1 = p1.distance(get_node_coord(u1))\n",
        "    p1_to_v1 = p1.distance(get_node_coord(v1))\n",
        "    \n",
        "    # 计算p2到u2和v2的距离\n",
        "    p2_to_u2 = p2.distance(get_node_coord(u2))\n",
        "    p2_to_v2 = p2.distance(get_node_coord(v2))\n",
        "    \n",
        "    # 初始化优先队列和已访问节点集\n",
        "    pq = [(p1_to_u1, u1), (p1_to_v1, v1)]\n",
        "    visited = {}\n",
        "    best_dist = float('inf')  # 初始化最佳距离\n",
        "    \n",
        "    # Dijkstra算法\n",
        "    while pq:\n",
        "        dist, node = heapq.heappop(pq)\n",
        "        \n",
        "        # 如果当前距离已经超过最佳距离，跳过\n",
        "        if dist > best_dist:\n",
        "            continue\n",
        "        \n",
        "        # 如果节点已访问且距离更大，跳过\n",
        "        if node in visited and visited[node] <= dist:\n",
        "            continue\n",
        "        \n",
        "        # 记录节点的距离\n",
        "        visited[node] = dist\n",
        "        \n",
        "        # 如果到达目标路段的端点，更新最佳距离\n",
        "        if node == u2:\n",
        "            final_dist = dist + p2_to_u2\n",
        "            best_dist = min(best_dist, final_dist)\n",
        "        elif node == v2:\n",
        "            final_dist = dist + p2_to_v2\n",
        "            best_dist = min(best_dist, final_dist)\n",
        "        \n",
        "        # 遍历相邻节点\n",
        "        for neighbor in G.neighbors(node):\n",
        "            if neighbor in visited and visited[neighbor] <= dist:\n",
        "                continue\n",
        "            \n",
        "            # 获取边的长度\n",
        "            edge_data = G.get_edge_data(node, neighbor)\n",
        "            edge_len = edge_data.get('length', 0)\n",
        "            if edge_len == 0:\n",
        "                # 如果没有预计算的长度，使用坐标计算\n",
        "                edge_len = get_node_coord(node).distance(get_node_coord(neighbor))\n",
        "            \n",
        "            # 计算到邻居的总距离\n",
        "            new_dist = dist + edge_len\n",
        "            \n",
        "            # 只有当新距离可能更短时才加入队列\n",
        "            if new_dist < best_dist:\n",
        "                heapq.heappush(pq, (new_dist, neighbor))\n",
        "    \n",
        "    return best_dist"
      ]
    },
    {
      "cell_type": "markdown",
      "metadata": {
        "id": "QbebU0ru0Aib"
      },
      "source": [
        "## 4- KNN Search Algorithms\n",
        "In this part, you will implement the IER and INE algorithms for efficient KNN search in spatial network databases."
      ]
    },
    {
      "cell_type": "markdown",
      "metadata": {
        "id": "38Q2EQTx0V1B"
      },
      "source": [
        "### 4.1- Incremental Euclidean Restriction (IER) algorithm\n",
        "Here, we implement the IER algorithm to find the `k` nearest neighbors to query point `q` based on network distance, using Euclidean distance to prune the search space.\n",
        "\n",
        "The algorithm you need to implement works as follows:\n",
        "  1. Retrieve the `k` nearest POI neighbors {$p_1,\\cdots,p_k$} to `q` based on Euclidean distance using the POI R-tree index.\n",
        "  2. For each of these candidate neighbors, compute the network distance <code>dN(q,p<sub>i</sub>)</code> using the `compute_ND` function.\n",
        "  3. Sort the candidates in the ascending order based on their network distance to the query.\n",
        "  4. Set a threshold <code>d<sub>Emax</sub></code> to the network distance of `k`-th candidate.\n",
        "  5. Iterate through these steps until no candidate refinement is possible:\n",
        "    - Fetch the next nearest neighbor `p` based on the Euclidean distance to `q`.\n",
        "    - If its Euclidean distance `dE(q, p)` is greater than <code>d<sub>Emax</sub></code>, terminate the loop.\n",
        "    - Otherwise, compute the network distance `dN(q, p)`.\n",
        "    - if `dN(q, p)` is smaller than <code>dN(q,p<sub>k</sub>)</code>, insert `p` in the candidate set and remove <code>p<sub>k</sub></code>. Update <code>d<sub>Emax</sub></code> accordingly.\n",
        "\n",
        "\n"
      ]
    },
    {
      "cell_type": "markdown",
      "metadata": {
        "id": "YGXJP2cWhFYw"
      },
      "source": [
        "In order to implement IER, you need to first implement two additional helper functions, to fetch the Euclidean nearest neighbors. You will use these for your IER implementation."
      ]
    },
    {
      "cell_type": "code",
      "execution_count": 339,
      "metadata": {
        "id": "PiMuSA2WhPP9"
      },
      "outputs": [],
      "source": [
        "def euclidean_nn(q, k, poi_idx, pois_gdf):\n",
        "    \"\"\"\n",
        "    Retrieve the k nearest neighbors to the query point q based on Euclidean distance.\n",
        "\n",
        "    Parameters:\n",
        "    - q (Point): The query point.\n",
        "    - k (int): Number of nearest neighbors to retrieve.\n",
        "    - poi_idx (rtree.index.Index): R-tree spatial index of the POIs.\n",
        "    - pois_gdf (GeoDataFrame): GeoDataFrame containing the POIs.\n",
        "\n",
        "    Returns:\n",
        "    - GeoDataFrame: DataFrame containing the k nearest POIs sorted by Euclidean distance.\n",
        "    \"\"\"\n",
        "    # TODO: Implement the function to retrieve the initial k nearest neighbors based on Euclidean distance.\n",
        "    # 获取点的坐标\n",
        "    q_coords = (q.x, q.y, q.x, q.y)\n",
        "    \n",
        "    # 获取更多候选点，确保能找到k个有效的POIs\n",
        "    candidate_ids = list(poi_idx.nearest(q_coords, num_results=k * 10))\n",
        "    \n",
        "    # 计算实际的欧氏距离并排序\n",
        "    candidates = []\n",
        "    for pid in candidate_ids:\n",
        "        if pid in pois_gdf.index:  # 确保POI存在\n",
        "            poi = pois_gdf.loc[pid]\n",
        "            dist = q.distance(poi.geometry)\n",
        "            candidates.append((pid, dist))\n",
        "    \n",
        "    # 按欧几里得距离排序\n",
        "    candidates.sort(key=lambda x: x[1])\n",
        "    \n",
        "    # 选前k个最近邻，如果不足k个则返回所有\n",
        "    top_k_count = min(k, len(candidates))\n",
        "    top_k_ids = [pid for pid, _ in candidates[:top_k_count]]\n",
        "    \n",
        "    return pois_gdf.loc[top_k_ids].copy()\n",
        "\n",
        "\n",
        "def next_euclidean_nn(q, poi_idx, pois_gdf, exclusion_set):\n",
        "    \"\"\"\n",
        "    Retrieve the next nearest neighbor to the query point q based on Euclidean distance, excluding already considered POIs.\n",
        "\n",
        "    Parameters:\n",
        "    - q (Point): The query point.\n",
        "    - poi_idx (rtree.index.Index): R-tree spatial index of the POIs.\n",
        "    - pois_gdf (GeoDataFrame): GeoDataFrame containing the POIs.\n",
        "    - exclusion_list (set): Set of indices of POIs already considered.\n",
        "\n",
        "    Returns:\n",
        "    - Series: The next nearest POI.\n",
        "    - float: The Euclidean distance to the POI.\n",
        "    \"\"\"\n",
        "    # TODO: Implement the function to retrieve the next nearest neighbor based on Euclidean distance.\n",
        "    # 获取点的坐标\n",
        "    q_coords = (q.x, q.y, q.x, q.y)\n",
        "    \n",
        "    # 获取足够多的候选点\n",
        "    for pid in poi_idx.nearest(q_coords, num_results=len(pois_gdf) * 2):\n",
        "        if pid in pois_gdf.index and pid not in exclusion_set:  # 确保POI存在且未被排除\n",
        "            poi = pois_gdf.loc[pid]\n",
        "            distance = q.distance(poi.geometry)\n",
        "            return poi, distance\n",
        "    \n",
        "    return None, float('inf')"
      ]
    },
    {
      "cell_type": "code",
      "execution_count": 341,
      "metadata": {
        "id": "4IVuwU9s0IP5"
      },
      "outputs": [],
      "source": [
        "def IER(q, k, pois_gdf, poi_idx, roads_gdf, polyline_idx, G):\n",
        "    \"\"\"\n",
        "    Incremental Euclidean Restriction (IER) algorithm to find k nearest neighbors based on network distance.\n",
        "\n",
        "    Parameters:\n",
        "    - q (Point): The query point.\n",
        "    - k (int): Number of nearest neighbors to retrieve.\n",
        "    - pois_gdf (GeoDataFrame): GeoDataFrame containing the POIs.\n",
        "    - poi_idx (rtree.index.Index): R-tree spatial index of the POIs.\n",
        "    - roads_gdf (GeoDataFrame): GeoDataFrame of road network edges (segments).\n",
        "    - polyline_idx (rtree.index.Index): R-tree spatial index of the road segments.\n",
        "    - G (networkx.Graph): The road network graph.\n",
        "\n",
        "    Returns:\n",
        "    - knn_list (list): List of k nearest POIs with their network distances.\n",
        "    \"\"\"\n",
        "    # TODO: Implement the IER algorithm.\n",
        "   # 1. {p₁,...pₖ}=Euclidean_NN(q,k)\n",
        "    initial_candidates = euclidean_nn(q, k, poi_idx, pois_gdf)\n",
        "    \n",
        "    # 缓存网络距离计算结果，提高性能\n",
        "    distance_cache = {}\n",
        "    \n",
        "    def cached_compute_ND(p1, p2):\n",
        "        poi_id = getattr(p2, 'name', None)\n",
        "        if poi_id is not None and poi_id in distance_cache:\n",
        "            return distance_cache[poi_id]\n",
        "        \n",
        "        dist = compute_ND(p1, p2, G, roads_gdf, polyline_idx)\n",
        "        if poi_id is not None:\n",
        "            distance_cache[poi_id] = dist\n",
        "        return dist\n",
        "    \n",
        "    # 2-3. 为每个候选计算网络距离\n",
        "    result_list = []\n",
        "    for _, poi in initial_candidates.iterrows():\n",
        "        dN = cached_compute_ND(q, poi.geometry)\n",
        "        result_list.append((poi, dN))\n",
        "    \n",
        "    # 4. 按网络距离升序排序\n",
        "    result_list.sort(key=lambda x: x[1])\n",
        "    \n",
        "    # 5. dEmax = dN(q, pₖ)\n",
        "    dEmax = float('inf')\n",
        "    if len(result_list) >= k:\n",
        "        dEmax = result_list[k-1][1]\n",
        "    \n",
        "    # 用于跟踪已处理的POI\n",
        "    processed_pois = set([poi.name for poi, _ in result_list])\n",
        "    \n",
        "    # 6-11. 重复获取下一个欧氏最近邻，直到终止条件满足\n",
        "    while True:\n",
        "        # 7. (p,dE(q,p))=next_Euclidean_NN(q)\n",
        "        next_poi, dE = next_euclidean_nn(q, poi_idx, pois_gdf, processed_pois)\n",
        "        \n",
        "        # 11. 直到dE(q,p)>dEmax\n",
        "        if next_poi is None or dE > dEmax:\n",
        "            break\n",
        "        \n",
        "        # 标记POI为已处理\n",
        "        processed_pois.add(next_poi.name)\n",
        "        \n",
        "        # 计算网络距离\n",
        "        dN = cached_compute_ND(q, next_poi.geometry)\n",
        "        \n",
        "        # 8-10. 如果p比当前第k个最近邻更近，则插入\n",
        "        if dN < dEmax:\n",
        "            # 9. 插入p到结果集\n",
        "            result_list.append((next_poi, dN))\n",
        "            result_list.sort(key=lambda x: x[1])\n",
        "            result_list = result_list[:k]\n",
        "            \n",
        "            # 10. 更新dEmax\n",
        "            dEmax = result_list[k-1][1]\n",
        "    \n",
        "    # 返回最终的k个最近邻\n",
        "    return result_list[:k]"
      ]
    },
    {
      "cell_type": "markdown",
      "metadata": {
        "id": "Cnvp60j6nN1A"
      },
      "source": [
        "### 4.2- Incremental Network Expansion (INE) algorithm\n",
        "\n",
        "In this step, we implement the INE algorithm to find the `k` nearest neighbors to query point `q` based on the network distance, by incrementally expanding the network from `q`.\n",
        "\n",
        "You should follow these steps to implement the algorithm:\n",
        "  1. Find the road segment covering or closest to query POI `q` using the earlier `find_segment` function.\n",
        "  2. Retrieve all POIs that lie on this segment using the `find_entities` function.\n",
        "  3. Initialize the candidate set {$p_1, ..., p_k$} with these POIs, sorted in ascending order based on their network distance.\n",
        "  4. If fewer than `k` POIs are found, set the threshold <code>d<sub>Nmax</sub></code> to infinity. Otherwise, set it to the network distance of the `k`-th candidate.\n",
        "  5. Initialize a priority queue `Q` with the road segment nodes covering `q` and their cumulative network distance from `q`.\n",
        "  6. While `Q` is not empty and the smallest cumulative distance in `Q` is less than <code>d<sub>Nmax</sub></code> repeat:\n",
        "    - Dequeue the node `n` with the smallest cumulative network distance.\n",
        "    - For each non-visited adjacent node `n'` of n:\n",
        "      - Compute the cumulative network distance <code>d<sub>N</sub>(q, n')</code>.\n",
        "      - Retrieve all the POIs on the road segment between `n` and `n'` using the `find_entities` function.\n",
        "      - Add the newly found POIs to the candidate set {$p_1, ..., p_k$}.\n",
        "      - Update the candidate set so that it contains the `k` POIs with smallest network distance, sorted in ascending order.\n",
        "      - Update <code>d<sub>Nmax</sub> = d<sub>N</sub>(q,p<sub>k</sub>)</code>\n",
        "      - Enqueue `n'` into `Q` with its cumulative network distance <code>d<sub>N</sub>(q, n')</code>.\n",
        "      - Mark `n'` as visited.\n",
        "  7. Return the resulting top `k` candidate set.\n"
      ]
    },
    {
      "cell_type": "code",
      "execution_count": 337,
      "metadata": {
        "id": "apEIpaFA0j8p"
      },
      "outputs": [],
      "source": [
        "import heapq\n",
        "import pandas as pd\n",
        "\n",
        "def INE(q, k, pois_gdf, poi_idx, roads_gdf, polyline_idx, G):\n",
        "    \"\"\"\n",
        "    Incremental Network Expansion (INE) algorithm to find k nearest neighbors based on network distance.\n",
        "\n",
        "    Parameters:\n",
        "    - q (Point): The query point.\n",
        "    - k (int): Number of nearest neighbors to retrieve.\n",
        "    - pois_gdf (GeoDataFrame): GeoDataFrame containing the POIs.\n",
        "    - poi_idx (rtree.index.Index): R-tree spatial index of the POIs.\n",
        "    - roads_gdf (GeoDataFrame): GeoDataFrame of road network segments.\n",
        "    - polyline_idx (rtree.index.Index): R-tree spatial index of the road segments.\n",
        "    - G (networkx.Graph): The road network graph.\n",
        "\n",
        "    Returns:\n",
        "    - knn_list (list): List of k nearest POIs with their network distances.\n",
        "    \"\"\"\n",
        "    # TODO: Implement the INE algorithm\n",
        "    q_seg = find_segment(q, polyline_idx, roads_gdf)\n",
        "    if q_seg is None:\n",
        "        return []\n",
        "\n",
        "    q_u, q_v = q_seg['u'], q_seg['v']\n",
        "\n",
        "    distance_cache = {}\n",
        "    def cached_compute_ND(p1, p2):\n",
        "        poi_id = getattr(p2, 'name', None)\n",
        "        if poi_id is not None and poi_id in distance_cache:\n",
        "            return distance_cache[poi_id]\n",
        "        dist = compute_ND(p1, p2, G, roads_gdf, polyline_idx)\n",
        "        if poi_id is not None:\n",
        "            distance_cache[poi_id] = dist\n",
        "        return dist\n",
        "\n",
        "    def get_node_coord(nid):\n",
        "        return Point(G.nodes[nid]['x'], G.nodes[nid]['y'])\n",
        "\n",
        "    S_cover = find_entities(q_seg.geometry, poi_idx, pois_gdf, dT=15)\n",
        "    topk_dict = {}\n",
        "    visited_pois = set()\n",
        "\n",
        "    for _, poi in S_cover.iterrows():\n",
        "        poi_id = poi.name\n",
        "        dN = cached_compute_ND(q, poi.geometry)\n",
        "        topk_dict[poi_id] = (poi, dN)\n",
        "        visited_pois.add(poi_id)\n",
        "\n",
        "    topk = sorted(topk_dict.values(), key=lambda x: x[1])[:k]\n",
        "    topk_dict = {p[0].name: p for p in topk}\n",
        "    dNmax = topk[-1][1] if len(topk) >= k else float('inf')\n",
        "\n",
        "    pq = []\n",
        "    for node in [q_u, q_v]:\n",
        "        dist = q.distance(get_node_coord(node))\n",
        "        heapq.heappush(pq, (dist, node))\n",
        "\n",
        "    visited_nodes = set()\n",
        "    entities_cache = {}\n",
        "\n",
        "    while pq:\n",
        "        d_curr, node = heapq.heappop(pq)\n",
        "        if node in visited_nodes:\n",
        "            continue\n",
        "        if d_curr >= dNmax:\n",
        "            break\n",
        "\n",
        "        visited_nodes.add(node)\n",
        "\n",
        "        for neighbor in G.neighbors(node):\n",
        "            if neighbor in visited_nodes:\n",
        "                continue\n",
        "\n",
        "            matching_edges = roads_gdf[\n",
        "                ((roads_gdf['u'] == node) & (roads_gdf['v'] == neighbor)) |\n",
        "                ((roads_gdf['u'] == neighbor) & (roads_gdf['v'] == node))\n",
        "            ]\n",
        "\n",
        "            for _, edge in matching_edges.iterrows():\n",
        "                edge_id = edge.name\n",
        "                if edge_id in entities_cache:\n",
        "                    pois_on_edge = entities_cache[edge_id]\n",
        "                else:\n",
        "                    pois_on_edge = find_entities(edge.geometry, poi_idx, pois_gdf, dT=15)\n",
        "                    entities_cache[edge_id] = pois_on_edge\n",
        "\n",
        "                for _, poi in pois_on_edge.iterrows():\n",
        "                    poi_id = poi.name\n",
        "                    if poi_id in visited_pois:\n",
        "                        continue\n",
        "                    dN = cached_compute_ND(q, poi.geometry)\n",
        "                    visited_pois.add(poi_id)\n",
        "                    if len(topk_dict) < k:\n",
        "                        topk_dict[poi_id] = (poi, dN)\n",
        "                    elif dN < dNmax:\n",
        "                        topk_dict[poi_id] = (poi, dN)\n",
        "                    topk = sorted(topk_dict.values(), key=lambda x: x[1])[:k]\n",
        "                    topk_dict = {p[0].name: p for p in topk}\n",
        "                    dNmax = topk[-1][1] if len(topk) >= k else float('inf')\n",
        "\n",
        "            coord_node = get_node_coord(node)\n",
        "            coord_neighbor = get_node_coord(neighbor)\n",
        "            edge_len = coord_node.distance(coord_neighbor)\n",
        "            heapq.heappush(pq, (d_curr + edge_len, neighbor))\n",
        "\n",
        "    return sorted(topk, key=lambda x: x[1])"
      ]
    },
    {
      "cell_type": "markdown",
      "metadata": {
        "id": "S8k2YHhy07Fs"
      },
      "source": [
        "## 6- Analysis and Comparisons\n",
        "\n",
        "In this part you will need to compare and analyse the different NN methods. To do this, you will need to compare the runtimes of the two methods for the following values of `k` = [1, 5, 10, 15, 20].\n"
      ]
    },
    {
      "cell_type": "code",
      "execution_count": 334,
      "metadata": {},
      "outputs": [
        {
          "name": "stdout",
          "output_type": "stream",
          "text": [
            "选取的中心 POI 坐标: POINT (549974.1216634231 4180436.395294284)\n"
          ]
        }
      ],
      "source": [
        "minx, miny, maxx, maxy = attractions_gdf.total_bounds\n",
        "center_point = Point((minx + maxx) / 2, (miny + maxy) / 2)\n",
        "\n",
        "# 2. 找出距离中心最近的一个 POI\n",
        "attractions_gdf['center_dist'] = attractions_gdf.geometry.distance(center_point)\n",
        "query_point = attractions_gdf.sort_values('center_dist').iloc[0].geometry\n",
        "\n",
        "print(\"选取的中心 POI 坐标:\", query_point)"
      ]
    },
    {
      "cell_type": "code",
      "execution_count": 335,
      "metadata": {},
      "outputs": [],
      "source": [
        "import time\n",
        "import matplotlib.pyplot as plt\n",
        "\n",
        "def get_poi_ids(knn_list):\n",
        "    \"\"\"提取 POI 的唯一标识符（例如索引 name 或 ID）\"\"\"\n",
        "    return [poi.name for poi, _ in knn_list]\n",
        "\n",
        "def compare_algorithms(q, ks, pois_gdf, poi_idx, roads_gdf, polyline_idx, G):\n",
        "    ier_times = []\n",
        "    ine_times = []\n",
        "\n",
        "    for k in ks:\n",
        "        # ⏱️ IER\n",
        "        start = time.time()\n",
        "        ier_result = IER(q, k, pois_gdf, poi_idx, roads_gdf, polyline_idx, G)\n",
        "        # print(\"ier Done\")\n",
        "        ier_time = time.time() - start\n",
        "\n",
        "        # ⏱️ INE\n",
        "        start = time.time()\n",
        "        ine_result = INE(q, k, pois_gdf, poi_idx, roads_gdf, polyline_idx, G)\n",
        "        # print(\"ine Done\")\n",
        "        ine_time = time.time() - start\n",
        "\n",
        "        # 保存运行时间\n",
        "        ier_times.append(ier_time)\n",
        "        ine_times.append(ine_time)\n",
        "\n",
        "        print(\"######################### Here is k = \",k, \"#########################\")\n",
        "\n",
        "        print(\"for IER poi id: \", get_poi_ids(ier_result))\n",
        "        # print(\"ier time:\", ier_time)\n",
        "        # for poi, dN in ier_result:\n",
        "        #     x, y = poi.geometry.x, poi.geometry.y\n",
        "        #     print(f\"  → POI: {poi['name']} | Network distance: {dN:.2f} m | UTM location: ({x:.2f}, {y:.2f})\")\n",
        "       \n",
        "        print(\"------------\")\n",
        "       \n",
        "        print(\"for INE poi id: \", get_poi_ids(ine_result))\n",
        "        # print(\"ine time:\", ine_time)\n",
        "        # for poi, dN in ine_result:\n",
        "        #     x, y = poi.geometry.x, poi.geometry.y\n",
        "        #     print(f\"  → POI: {poi['name']} | Network distance: {dN:.2f} m | UTM location: ({x:.2f}, {y:.2f})\")\n",
        "\n",
        "    return ier_times, ine_times\n"
      ]
    },
    {
      "cell_type": "code",
      "execution_count": 342,
      "metadata": {},
      "outputs": [
        {
          "name": "stdout",
          "output_type": "stream",
          "text": [
            "######################### Here is k =  1 #########################\n",
            "for IER poi id:  [13748]\n",
            "------------\n",
            "for INE poi id:  [13748]\n",
            "######################### Here is k =  5 #########################\n",
            "for IER poi id:  [13748, 1375, 8685, 8684, 4993]\n",
            "------------\n",
            "for INE poi id:  [13748, 1375, 8685, 8684, 4993]\n",
            "######################### Here is k =  10 #########################\n",
            "for IER poi id:  [13748, 1375, 8685, 8684, 4993, 10272, 9931, 1158, 860, 5216]\n",
            "------------\n",
            "for INE poi id:  [13748, 1375, 8685, 8684, 4993, 10272, 9931, 1158, 860, 5216]\n",
            "######################### Here is k =  15 #########################\n",
            "for IER poi id:  [13748, 1375, 8685, 8684, 4993, 10272, 9931, 1158, 860, 5216, 4994, 2411, 9607, 2412, 9609]\n",
            "------------\n",
            "for INE poi id:  [13748, 1375, 8685, 8684, 4993, 10272, 9931, 1158, 860, 5216, 4994, 2411, 9607, 2412, 9609]\n",
            "######################### Here is k =  20 #########################\n",
            "for IER poi id:  [13748, 1375, 8685, 8684, 4993, 10272, 9931, 1158, 860, 5216, 4994, 2411, 9607, 2412, 9609, 9608, 10271, 7483, 7482, 7481]\n",
            "------------\n",
            "for INE poi id:  [13748, 1375, 8685, 8684, 4993, 10272, 9931, 1158, 860, 5216, 4994, 2411, 9607, 2412, 9609, 9608, 10271, 7483, 7482, 7481]\n"
          ]
        }
      ],
      "source": [
        "ks = [1, 5, 10, 15, 20]\n",
        "query_point = Point(550106, 4180456)\n",
        "# query_point = Point(549974, 4180456)\n",
        "\n",
        "# poi_id = 2348\n",
        "# print(attractions_gdf.loc[poi_id])\n",
        "\n",
        "# p1 = query_point\n",
        "# p2 = attractions_gdf.loc[poi_id].geometry \n",
        "\n",
        "# network_dist = compute_ND(p1, p2, G, edges_gdf, polyline_rtree)\n",
        "# print(\"network dis = \", network_dist)\n",
        "\n",
        "\n",
        "ier_times, ine_times = compare_algorithms(\n",
        "    query_point,\n",
        "    ks,\n",
        "    pois_gdf=attractions_gdf,\n",
        "    poi_idx=poi_rtree,\n",
        "    roads_gdf=edges_gdf,\n",
        "    polyline_idx=polyline_rtree,\n",
        "    G=G\n",
        ")"
      ]
    },
    {
      "cell_type": "code",
      "execution_count": 343,
      "metadata": {},
      "outputs": [
        {
          "data": {
            "image/png": "[encoded data removed]",
            "text/plain": [
              "<Figure size 800x500 with 1 Axes>"
            ]
          },
          "metadata": {},
          "output_type": "display_data"
        }
      ],
      "source": [
        "# # 📊 绘图：运行时间对比\n",
        "plt.figure(figsize=(8, 5))\n",
        "plt.plot(ks, ier_times, marker='o', label='IER')\n",
        "plt.plot(ks, ine_times, marker='s', label='INE')\n",
        "plt.xlabel(\"k (number of neighbors)\")\n",
        "plt.ylabel(\"Runtime (seconds)\")\n",
        "plt.title(\"Runtime Comparison: IER vs INE\")\n",
        "plt.legend()\n",
        "plt.grid(True)\n",
        "plt.show()"
      ]
    },
    {
      "cell_type": "markdown",
      "metadata": {
        "id": "Md9NItYt1F4c"
      },
      "source": [
        "## 7- Observations\n",
        "\n",
        "Are your results aligned with those presented in the paper? Provide a brief summary of your observations below. Include details on any differences or similarities in performance, and discuss any unexpected findings or challenges you encountered during the implementation process.\n",
        "\n"
      ]
    },
    {
      "cell_type": "markdown",
      "metadata": {},
      "source": [
        "The results of my implementation are generally aligned with those presented in the paper. Specifically, for the same query point and the same value of `k`, both IER and INE return the same set of POIs, which confirms the correctness of the algorithms.\n",
        "\n",
        "In terms of performance, IER takes more time than INE, which is consistent with the paper. However, the time difference between IER and INE is smaller than reported, and the overall running times are higher. I believe this is due to implementation and hardware differences — the paper might use C++ and faster machines, while my implementation is in Python with my own laptop.\n",
        "\n",
        "One challenge I encountered was in constructing the `adjacency_dict`. At first, I tried to simulate a linked list as in other languages, but later I found that a simple list was enough to represent adjacency in Python. This part caused some confusion initially but was resolved afterward."
      ]
    },
    {
      "cell_type": "markdown",
      "metadata": {},
      "source": []
    }
  ],
  "metadata": {
    "colab": {
      "provenance": []
    },
    "kernelspec": {
      "display_name": "spatial",
      "language": "python",
      "name": "python3"
    },
    "language_info": {
      "codemirror_mode": {
        "name": "ipython",
        "version": 3
      },
      "file_extension": ".py",
      "mimetype": "text/x-python",
      "name": "python",
      "nbconvert_exporter": "python",
      "pygments_lexer": "ipython3",
      "version": "3.10.16"
    }
  },
  "nbformat": 4,
  "nbformat_minor": 0
}
